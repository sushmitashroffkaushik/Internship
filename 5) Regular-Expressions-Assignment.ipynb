{
 "cells": [
  {
   "cell_type": "code",
   "execution_count": 1,
   "id": "816ffe93",
   "metadata": {},
   "outputs": [
    {
     "name": "stdout",
     "output_type": "stream",
     "text": [
      "Python:Exercise::PHP:exercises:\n"
     ]
    }
   ],
   "source": [
    "# Question 1\n",
    "\n",
    "def replace_characters(input_string):\n",
    "    # Replace space, comma, and dot with colon\n",
    "    replaced_string = input_string.replace(' ', ':').replace(',', ':').replace('.', ':')\n",
    "    return replaced_string\n",
    "\n",
    "# Example usage:\n",
    "sample_text = 'Python Exercise, PHP exercises.'\n",
    "result = replace_characters(sample_text)\n",
    "print(result)"
   ]
  },
  {
   "cell_type": "code",
   "execution_count": 2,
   "id": "f2d2a995",
   "metadata": {},
   "outputs": [
    {
     "name": "stdout",
     "output_type": "stream",
     "text": [
      "            SUMMARY\n",
      "0       hello world\n",
      "1        XXXXX test\n",
      "2  123four five six\n"
     ]
    }
   ],
   "source": [
    "# Question 2\n",
    "\n",
    "import pandas as pd\n",
    "import re\n",
    "\n",
    "# Dictionary\n",
    "data = {'SUMMARY': ['hello, world!', 'XXXXX test', '123four, five:; six...']}\n",
    "\n",
    "# Create DataFrame\n",
    "df = pd.DataFrame(data)\n",
    "\n",
    "# Function to remove unwanted characters\n",
    "def remove_special_characters(text):\n",
    "    # Remove commas, exclamation marks, 'XXXX', semicolons, digits, etc.\n",
    "    cleaned_text = re.sub(r'[^\\w\\s]', '', text)\n",
    "    return cleaned_text\n",
    "\n",
    "# Apply the function to the 'SUMMARY' column\n",
    "df['SUMMARY'] = df['SUMMARY'].apply(remove_special_characters)\n",
    "\n",
    "# Display DataFrame\n",
    "print(df)"
   ]
  },
  {
   "cell_type": "code",
   "execution_count": 3,
   "id": "35ee831b",
   "metadata": {},
   "outputs": [
    {
     "name": "stdout",
     "output_type": "stream",
     "text": [
      "['This', 'sample', 'text', 'with', 'words', 'varying', 'lengths', 'such', 'apple', 'banana', 'orange', 'pineapple']\n"
     ]
    }
   ],
   "source": [
    "# Question 3\n",
    "\n",
    "def find_long_words(text):\n",
    "    # Compile a regular expression pattern to match words at least 4 characters long\n",
    "    pattern = re.compile(r'\\b\\w{4,}\\b')\n",
    "    \n",
    "    # Find all matches in the text\n",
    "    matches = pattern.findall(text)\n",
    "    \n",
    "    return matches\n",
    "\n",
    "# Example usage:\n",
    "text = \"This is a sample text with words of varying lengths such as apple, banana, orange, and pineapple.\"\n",
    "long_words = find_long_words(text)\n",
    "print(long_words)"
   ]
  },
  {
   "cell_type": "code",
   "execution_count": 4,
   "id": "7cdf9a6e",
   "metadata": {},
   "outputs": [
    {
     "name": "stdout",
     "output_type": "stream",
     "text": [
      "['This', 'text', 'with', 'words', 'such', 'apple', 'and']\n"
     ]
    }
   ],
   "source": [
    "# Question 4\n",
    "\n",
    "import re\n",
    "\n",
    "def find_specific_length_words(text):\n",
    "    # Compile a regular expression pattern to match words of lengths 3, 4, or 5 characters\n",
    "    pattern = re.compile(r'\\b\\w{3,5}\\b')\n",
    "    \n",
    "    # Find all matches in the text\n",
    "    matches = pattern.findall(text)\n",
    "    \n",
    "    return matches\n",
    "\n",
    "# Example usage:\n",
    "text = \"This is a sample text with words of varying lengths such as apple, banana, orange, and pineapple.\"\n",
    "specific_length_words = find_specific_length_words(text)\n",
    "print(specific_length_words)"
   ]
  },
  {
   "cell_type": "code",
   "execution_count": 5,
   "id": "5956242b",
   "metadata": {},
   "outputs": [
    {
     "name": "stdout",
     "output_type": "stream",
     "text": [
      "['example ', 'hr@fliprobo ', 'github ', 'Hello ', 'Data ']\n"
     ]
    }
   ],
   "source": [
    "# Question 5\n",
    "\n",
    "import re\n",
    "\n",
    "def remove_parentheses(strings):\n",
    "    # Compile a regular expression pattern to match parentheses and their contents\n",
    "    pattern = re.compile(r'\\((.*?)\\)')\n",
    "\n",
    "    # Remove parentheses and their contents from each string in the list\n",
    "    cleaned_strings = [pattern.sub('', s) for s in strings]\n",
    "\n",
    "    return cleaned_strings\n",
    "\n",
    "# Example usage:\n",
    "sample_text = [\"example (.com)\", \"hr@fliprobo (.com)\", \"github (.com)\", \"Hello (Data Science World)\", \"Data (Scientist)\"]\n",
    "result = remove_parentheses(sample_text)\n",
    "print(result)"
   ]
  },
  {
   "cell_type": "code",
   "execution_count": 6,
   "id": "25d2a3dc",
   "metadata": {},
   "outputs": [
    {
     "name": "stdout",
     "output_type": "stream",
     "text": [
      "[\"example \", \"hr@fliprobo \", \"github \", \"Hello \", \"Data \"]\n"
     ]
    }
   ],
   "source": [
    "# Question 6\n",
    "\n",
    "import re\n",
    "\n",
    "def remove_parentheses_from_file(file_path):\n",
    "    # Compile a regular expression pattern to match parentheses and their contents\n",
    "    pattern = re.compile(r'\\((.*?)\\)')\n",
    "\n",
    "    # Read the text from the file\n",
    "    with open(file_path, 'r') as file:\n",
    "        text = file.read()\n",
    "\n",
    "    # Remove parentheses and their contents from the text\n",
    "    cleaned_text = pattern.sub('', text)\n",
    "\n",
    "    # Write the modified text back to the file\n",
    "    with open(file_path, 'w') as file:\n",
    "        file.write(cleaned_text)\n",
    "\n",
    "# Example usage:\n",
    "file_path = 'sample_text.txt'\n",
    "sample_text = '[\"example (.com)\", \"hr@fliprobo (.com)\", \"github (.com)\", \"Hello (Data Science World)\", \"Data (Scientist)\"]'\n",
    "\n",
    "# Write the sample text to the file\n",
    "with open(file_path, 'w') as file:\n",
    "    file.write(sample_text)\n",
    "\n",
    "# Remove parentheses from the text file\n",
    "remove_parentheses_from_file(file_path)\n",
    "\n",
    "# Read and print the modified text from the file\n",
    "with open(file_path, 'r') as file:\n",
    "    modified_text = file.read()\n",
    "    print(modified_text)"
   ]
  },
  {
   "cell_type": "code",
   "execution_count": 7,
   "id": "470d198b",
   "metadata": {},
   "outputs": [
    {
     "name": "stdout",
     "output_type": "stream",
     "text": [
      "['I', 'O', 'R', 'E', 'I', 'P']\n"
     ]
    }
   ],
   "source": [
    "# Question 7\n",
    "\n",
    "import re\n",
    "\n",
    "# Sample text\n",
    "sample_text = \"ImportanceOfRegularExpressionsInPython\"\n",
    "\n",
    "# Regular expression pattern to match uppercase letters\n",
    "pattern = re.compile(r'[A-Z]')\n",
    "\n",
    "# Split the string into uppercase letters\n",
    "uppercase_letters = pattern.findall(sample_text)\n",
    "\n",
    "print(uppercase_letters)"
   ]
  },
  {
   "cell_type": "code",
   "execution_count": 8,
   "id": "aa86e018",
   "metadata": {},
   "outputs": [
    {
     "name": "stdout",
     "output_type": "stream",
     "text": [
      "RegularExpression1 IsAn2 ImportantTopic3 InPython\n"
     ]
    }
   ],
   "source": [
    "# Question 8\n",
    "\n",
    "import re\n",
    "\n",
    "def insert_spaces(text):\n",
    "    # Regular expression pattern to match words starting with numbers\n",
    "    pattern = re.compile(r'(?<=\\d)(?=[A-Za-z])')\n",
    "\n",
    "    # Insert space between words starting with numbers\n",
    "    modified_text = pattern.sub(' ', text)\n",
    "\n",
    "    return modified_text\n",
    "\n",
    "# Example usage:\n",
    "sample_text = \"RegularExpression1IsAn2ImportantTopic3InPython\"\n",
    "result = insert_spaces(sample_text)\n",
    "print(result)"
   ]
  },
  {
   "cell_type": "code",
   "execution_count": 9,
   "id": "60433af5",
   "metadata": {},
   "outputs": [
    {
     "name": "stdout",
     "output_type": "stream",
     "text": [
      "Regular Expression 1 Is An 2 Important Topic 3 In Python\n"
     ]
    }
   ],
   "source": [
    "# Question 9\n",
    "\n",
    "import re\n",
    "\n",
    "def insert_spaces(text):\n",
    "    # Regular expression pattern to match words starting with capital letters or numbers\n",
    "    pattern = re.compile(r'(?<=[A-Z0-9])(?=[A-Z][a-z])|(?<=[a-z])(?=[A-Z0-9])')\n",
    "\n",
    "    # Insert space between words starting with capital letters or numbers\n",
    "    modified_text = pattern.sub(' ', text)\n",
    "\n",
    "    return modified_text\n",
    "\n",
    "# Example usage:\n",
    "sample_text = \"RegularExpression1IsAn2ImportantTopic3InPython\"\n",
    "result = insert_spaces(sample_text)\n",
    "print(result)"
   ]
  },
  {
   "cell_type": "code",
   "execution_count": 10,
   "id": "b5f7dfc7",
   "metadata": {},
   "outputs": [
    {
     "name": "stdout",
     "output_type": "stream",
     "text": [
      "       Country          Region  Happiness Rank  Happiness Score  \\\n",
      "0  Switzerland  Western Europe               1            7.587   \n",
      "1      Iceland  Western Europe               2            7.561   \n",
      "2      Denmark  Western Europe               3            7.527   \n",
      "3       Norway  Western Europe               4            7.522   \n",
      "4       Canada   North America               5            7.427   \n",
      "\n",
      "   Standard Error  Economy (GDP per Capita)   Family  \\\n",
      "0         0.03411                   1.39651  1.34951   \n",
      "1         0.04884                   1.30232  1.40223   \n",
      "2         0.03328                   1.32548  1.36058   \n",
      "3         0.03880                   1.45900  1.33095   \n",
      "4         0.03553                   1.32629  1.32261   \n",
      "\n",
      "   Health (Life Expectancy)  Freedom  Trust (Government Corruption)  \\\n",
      "0                   0.94143  0.66557                        0.41978   \n",
      "1                   0.94784  0.62877                        0.14145   \n",
      "2                   0.87464  0.64938                        0.48357   \n",
      "3                   0.88521  0.66973                        0.36503   \n",
      "4                   0.90563  0.63297                        0.32957   \n",
      "\n",
      "   Generosity  Dystopia Residual first_five_letters  \n",
      "0     0.29678            2.51738             Switze  \n",
      "1     0.43630            2.70201             Icelan  \n",
      "2     0.34139            2.49204             Denmar  \n",
      "3     0.34699            2.46531             Norway  \n",
      "4     0.45811            2.45176             Canada  \n"
     ]
    }
   ],
   "source": [
    "# Question 10\n",
    "\n",
    "import pandas as pd\n",
    "\n",
    "# Read the data from the GitHub link into a DataFrame\n",
    "url = \"https://raw.githubusercontent.com/dsrscientist/DSData/master/happiness_score_dataset.csv\"\n",
    "df = pd.read_csv(url)\n",
    "\n",
    "# Extract the first 6 letters of each country name and store them in a new column\n",
    "df['first_five_letters'] = df['Country'].str[:6]\n",
    "\n",
    "# Display the DataFrame\n",
    "print(df.head())"
   ]
  },
  {
   "cell_type": "code",
   "execution_count": 11,
   "id": "44b90a8d",
   "metadata": {},
   "outputs": [
    {
     "name": "stdout",
     "output_type": "stream",
     "text": [
      "Hello123: True\n",
      "Valid_String: True\n",
      "123_456: True\n",
      "invalid string!: False\n",
      "invalid$String: False\n"
     ]
    }
   ],
   "source": [
    "# Question 11\n",
    "\n",
    "import re\n",
    "\n",
    "def is_valid_string(s):\n",
    "    # Regular expression pattern to match the given criteria\n",
    "    pattern = re.compile(r'^[a-zA-Z0-9_]+$')\n",
    "\n",
    "    # Check if the string matches the pattern\n",
    "    if pattern.match(s):\n",
    "        return True\n",
    "    else:\n",
    "        return False\n",
    "\n",
    "# Test the function\n",
    "strings_to_test = [\"Hello123\", \"Valid_String\", \"123_456\", \"invalid string!\", \"invalid$String\"]\n",
    "for s in strings_to_test:\n",
    "    print(f\"{s}: {is_valid_string(s)}\")"
   ]
  },
  {
   "cell_type": "code",
   "execution_count": 12,
   "id": "cfa6080a",
   "metadata": {},
   "outputs": [
    {
     "name": "stdout",
     "output_type": "stream",
     "text": [
      "123Hello starts with 123: True\n",
      "456World starts with 123: False\n",
      "789Python starts with 123: False\n",
      "Hello123 starts with 123: False\n",
      "world456 starts with 123: False\n"
     ]
    }
   ],
   "source": [
    "# Question 12\n",
    "\n",
    "import re\n",
    "\n",
    "def starts_with_number(s, number):\n",
    "    # Regular expression pattern to match the given criteria\n",
    "    pattern = re.compile(r'^' + str(number))\n",
    "\n",
    "    # Check if the string matches the pattern\n",
    "    if pattern.match(s):\n",
    "        return True\n",
    "    else:\n",
    "        return False\n",
    "\n",
    "# Test the function\n",
    "strings_to_test = [\"123Hello\", \"456World\", \"789Python\", \"Hello123\", \"world456\"]\n",
    "number_to_match = 123\n",
    "for s in strings_to_test:\n",
    "    print(f\"{s} starts with {number_to_match}: {starts_with_number(s, number_to_match)}\")"
   ]
  },
  {
   "cell_type": "code",
   "execution_count": 13,
   "id": "2b3566d4",
   "metadata": {},
   "outputs": [
    {
     "name": "stdout",
     "output_type": "stream",
     "text": [
      "Original IP Address: 192.168.001.001\n",
      "Cleaned IP Address: 192.168.1.1\n"
     ]
    }
   ],
   "source": [
    "# Question 13\n",
    "\n",
    "def remove_leading_zeros(ip_address):\n",
    "    # Split the IP address into its octets\n",
    "    octets = ip_address.split('.')\n",
    "\n",
    "    # Remove leading zeros from each octet and convert to integer\n",
    "    octets = [str(int(octet)) for octet in octets]\n",
    "\n",
    "    # Join the octets back together with dots\n",
    "    cleaned_ip_address = '.'.join(octets)\n",
    "\n",
    "    return cleaned_ip_address\n",
    "\n",
    "# Example usage:\n",
    "ip_address = \"192.168.001.001\"\n",
    "cleaned_ip_address = remove_leading_zeros(ip_address)\n",
    "print(\"Original IP Address:\", ip_address)\n",
    "print(\"Cleaned IP Address:\", cleaned_ip_address)"
   ]
  },
  {
   "cell_type": "code",
   "execution_count": 14,
   "id": "0242ae3f",
   "metadata": {},
   "outputs": [
    {
     "name": "stdout",
     "output_type": "stream",
     "text": [
      "[('August', '15', '1947')]\n"
     ]
    }
   ],
   "source": [
    "# Question 14\n",
    "\n",
    "import re\n",
    "\n",
    "def find_date(text):\n",
    "    # Regular expression pattern to match the date string\n",
    "    pattern = re.compile(r'(January|February|March|April|May|June|July|August|September|October|November|December)\\s+(\\d{1,2})[a-z]*\\s+(\\d{4})')\n",
    "\n",
    "    # Find all matches in the text\n",
    "    matches = pattern.findall(text)\n",
    "\n",
    "    return matches\n",
    "\n",
    "# Example usage:\n",
    "sample_text = \"On August 15th 1947 that India was declared independent from British colonialism, and the reins of control were handed over to the leaders of the Country.\"\n",
    "dates = find_date(sample_text)\n",
    "print(dates)"
   ]
  },
  {
   "cell_type": "code",
   "execution_count": 15,
   "id": "92a6c0ad",
   "metadata": {},
   "outputs": [
    {
     "name": "stdout",
     "output_type": "stream",
     "text": [
      "Found words: ['fox', 'dog']\n"
     ]
    }
   ],
   "source": [
    "# Question 15\n",
    "\n",
    "import re\n",
    "\n",
    "def search_literals(text, searched_words):\n",
    "    found_words = []\n",
    "    for word in searched_words:\n",
    "        if re.search(word, text):\n",
    "            found_words.append(word)\n",
    "    return found_words\n",
    "\n",
    "# Sample text\n",
    "sample_text = 'The quick brown fox jumps over the lazy dog.'\n",
    "\n",
    "# Searched words\n",
    "searched_words = ['fox', 'dog', 'horse']\n",
    "\n",
    "# Search for the searched words in the sample text\n",
    "found_words = search_literals(sample_text, searched_words)\n",
    "\n",
    "print(\"Found words:\", found_words)"
   ]
  },
  {
   "cell_type": "code",
   "execution_count": 16,
   "id": "eb10a5a9",
   "metadata": {},
   "outputs": [
    {
     "name": "stdout",
     "output_type": "stream",
     "text": [
      "The pattern 'fox' found at locations: [16]\n"
     ]
    }
   ],
   "source": [
    "# Question 16\n",
    "\n",
    "def search_string(text, pattern):\n",
    "    locations = []\n",
    "    start_index = 0\n",
    "    while start_index < len(text):\n",
    "        index = text.find(pattern, start_index)\n",
    "        if index == -1:\n",
    "            break\n",
    "        locations.append(index)\n",
    "        start_index = index + 1\n",
    "    return locations\n",
    "\n",
    "# Sample text\n",
    "sample_text = 'The quick brown fox jumps over the lazy dog.'\n",
    "\n",
    "# Searched pattern\n",
    "searched_pattern = 'fox'\n",
    "\n",
    "# Search for the pattern in the sample text\n",
    "locations = search_string(sample_text, searched_pattern)\n",
    "\n",
    "if locations:\n",
    "    print(f\"The pattern '{searched_pattern}' found at locations:\", locations)\n",
    "else:\n",
    "    print(f\"The pattern '{searched_pattern}' not found in the text.\")"
   ]
  },
  {
   "cell_type": "code",
   "execution_count": 17,
   "id": "0803200b",
   "metadata": {},
   "outputs": [
    {
     "name": "stdout",
     "output_type": "stream",
     "text": [
      "The substring 'exercises' found at locations: [7, 22, 36]\n"
     ]
    }
   ],
   "source": [
    "# Question 17\n",
    "\n",
    "def find_substrings(text, substring):\n",
    "    locations = []\n",
    "    start_index = 0\n",
    "    while start_index < len(text):\n",
    "        index = text.find(substring, start_index)\n",
    "        if index == -1:\n",
    "            break\n",
    "        locations.append(index)\n",
    "        start_index = index + 1\n",
    "    return locations\n",
    "\n",
    "# Sample text\n",
    "sample_text = 'Python exercises, PHP exercises, C# exercises'\n",
    "\n",
    "# Substring to search for\n",
    "substring = 'exercises'\n",
    "\n",
    "# Find the substring in the sample text\n",
    "locations = find_substrings(sample_text, substring)\n",
    "\n",
    "if locations:\n",
    "    print(f\"The substring '{substring}' found at locations:\", locations)\n",
    "else:\n",
    "    print(f\"The substring '{substring}' not found in the text.\")"
   ]
  },
  {
   "cell_type": "code",
   "execution_count": 18,
   "id": "ac5a4691",
   "metadata": {},
   "outputs": [
    {
     "name": "stdout",
     "output_type": "stream",
     "text": [
      "Occurrences and positions of substrings within the string:\n",
      "'exercises' found at position 7\n",
      "'exercises' found at position 22\n",
      "'exercises' found at position 36\n",
      "'Python' found at position 0\n",
      "'PHP' found at position 18\n"
     ]
    }
   ],
   "source": [
    "# Question 18\n",
    "\n",
    "def find_occurrences(text, substring):\n",
    "    occurrences = []\n",
    "    start_index = 0\n",
    "    while start_index < len(text):\n",
    "        index = text.find(substring, start_index)\n",
    "        if index == -1:\n",
    "            break\n",
    "        occurrences.append((substring, index))\n",
    "        start_index = index + 1\n",
    "    return occurrences\n",
    "\n",
    "# Sample text\n",
    "sample_text = 'Python exercises, PHP exercises, C# exercises'\n",
    "\n",
    "# Substrings to search for\n",
    "substrings = ['exercises', 'Python', 'PHP']\n",
    "\n",
    "# Find the occurrences of substrings in the sample text\n",
    "all_occurrences = []\n",
    "for substring in substrings:\n",
    "    occurrences = find_occurrences(sample_text, substring)\n",
    "    all_occurrences.extend(occurrences)\n",
    "\n",
    "# Print the occurrences\n",
    "if all_occurrences:\n",
    "    print(\"Occurrences and positions of substrings within the string:\")\n",
    "    for occurrence in all_occurrences:\n",
    "        substring, position = occurrence\n",
    "        print(f\"'{substring}' found at position {position}\")\n",
    "else:\n",
    "    print(\"No occurrences found.\")"
   ]
  },
  {
   "cell_type": "code",
   "execution_count": 19,
   "id": "eb800ea9",
   "metadata": {},
   "outputs": [
    {
     "name": "stdout",
     "output_type": "stream",
     "text": [
      "Original date (yyyy-mm-dd): 2023-05-15\n",
      "Converted date (dd-mm-yyyy): 15-05-2023\n"
     ]
    }
   ],
   "source": [
    "# Question 19\n",
    "\n",
    "from datetime import datetime\n",
    "\n",
    "def convert_date(input_date):\n",
    "    # Convert the input date string to a datetime object\n",
    "    date_object = datetime.strptime(input_date, '%Y-%m-%d')\n",
    "    \n",
    "    # Convert the datetime object to the desired format\n",
    "    formatted_date = date_object.strftime('%d-%m-%Y')\n",
    "    \n",
    "    return formatted_date\n",
    "\n",
    "# Example usage:\n",
    "date_input = '2023-05-15'\n",
    "converted_date = convert_date(date_input)\n",
    "print(\"Original date (yyyy-mm-dd):\", date_input)\n",
    "print(\"Converted date (dd-mm-yyyy):\", converted_date)"
   ]
  },
  {
   "cell_type": "code",
   "execution_count": 20,
   "id": "25726ec0",
   "metadata": {},
   "outputs": [
    {
     "name": "stdout",
     "output_type": "stream",
     "text": [
      "['01.12', '145.8', '3.01', '27.25', '0.25']\n"
     ]
    }
   ],
   "source": [
    "# Question 20\n",
    "\n",
    "import re\n",
    "\n",
    "def find_decimal_numbers(text):\n",
    "    # Compile a regular expression pattern to match decimal numbers with precision of 1 or 2\n",
    "    pattern = re.compile(r'\\b\\d+\\.\\d{1,2}\\b')\n",
    "\n",
    "    # Find all matches in the text\n",
    "    matches = pattern.findall(text)\n",
    "\n",
    "    return matches\n",
    "\n",
    "# Example usage:\n",
    "sample_text = \"01.12 0132.123 2.31875 145.8 3.01 27.25 0.25\"\n",
    "decimal_numbers = find_decimal_numbers(sample_text)\n",
    "print(decimal_numbers)"
   ]
  },
  {
   "cell_type": "code",
   "execution_count": 21,
   "id": "eb12f848",
   "metadata": {},
   "outputs": [
    {
     "name": "stdout",
     "output_type": "stream",
     "text": [
      "Original text: Hello123World456\n",
      "Numbers and their positions:\n",
      "Number '1' found at position 5\n",
      "Number '2' found at position 6\n",
      "Number '3' found at position 7\n",
      "Number '4' found at position 13\n",
      "Number '5' found at position 14\n",
      "Number '6' found at position 15\n"
     ]
    }
   ],
   "source": [
    "# Question 21\n",
    "\n",
    "def print_numbers_and_positions(text):\n",
    "    for index, char in enumerate(text):\n",
    "        if char.isdigit():\n",
    "            print(f\"Number '{char}' found at position {index}\")\n",
    "\n",
    "# Example usage:\n",
    "sample_text = \"Hello123World456\"\n",
    "print(\"Original text:\", sample_text)\n",
    "print(\"Numbers and their positions:\")\n",
    "print_numbers_and_positions(sample_text)"
   ]
  },
  {
   "cell_type": "code",
   "execution_count": 22,
   "id": "f95184b0",
   "metadata": {},
   "outputs": [
    {
     "name": "stdout",
     "output_type": "stream",
     "text": [
      "Maximum numeric value: 950\n"
     ]
    }
   ],
   "source": [
    "# Question 22\n",
    "\n",
    "import re\n",
    "\n",
    "def extract_maximum_numeric_value(text):\n",
    "    # Regular expression pattern to match numeric values\n",
    "    pattern = re.compile(r'\\b\\d+\\b')\n",
    "\n",
    "    # Find all numeric values in the text\n",
    "    numeric_values = pattern.findall(text)\n",
    "\n",
    "    # Convert the numeric values to integers and find the maximum\n",
    "    if numeric_values:\n",
    "        max_numeric_value = max(map(int, numeric_values))\n",
    "        return max_numeric_value\n",
    "    else:\n",
    "        return None\n",
    "\n",
    "# Sample text\n",
    "sample_text = 'My marks in each semester are: 947, 896, 926, 524, 734, 950, 642'\n",
    "\n",
    "# Extract the maximum numeric value from the sample text\n",
    "max_numeric_value = extract_maximum_numeric_value(sample_text)\n",
    "\n",
    "if max_numeric_value is not None:\n",
    "    print(\"Maximum numeric value:\", max_numeric_value)\n",
    "else:\n",
    "    print(\"No numeric values found in the text.\")"
   ]
  },
  {
   "cell_type": "code",
   "execution_count": 23,
   "id": "413b9676",
   "metadata": {},
   "outputs": [
    {
     "name": "stdout",
     "output_type": "stream",
     "text": [
      "Regular Expression Is An Important Topic In Python\n"
     ]
    }
   ],
   "source": [
    "# Question 23\n",
    "\n",
    "import re\n",
    "\n",
    "def insert_spaces(text):\n",
    "    # Regular expression pattern to match words starting with capital letters\n",
    "    pattern = re.compile(r'(?<=[a-z])([A-Z])')\n",
    "\n",
    "    # Insert space between words starting with capital letters\n",
    "    modified_text = pattern.sub(r' \\1', text)\n",
    "\n",
    "    return modified_text\n",
    "\n",
    "# Example usage:\n",
    "sample_text = \"RegularExpressionIsAnImportantTopicInPython\"\n",
    "result = insert_spaces(sample_text)\n",
    "print(result)"
   ]
  },
  {
   "cell_type": "code",
   "execution_count": 24,
   "id": "fbd9e87e",
   "metadata": {},
   "outputs": [
    {
     "name": "stdout",
     "output_type": "stream",
     "text": [
      "['Regular', 'Python']\n"
     ]
    }
   ],
   "source": [
    "# Question 24\n",
    "\n",
    "import re\n",
    "\n",
    "# Sample text\n",
    "sample_text = \"Regular expressions in Python are powerful tools for pattern matching.\"\n",
    "\n",
    "# Regular expression pattern to find sequences of one uppercase letter followed by lowercase letters\n",
    "pattern = re.compile(r'[A-Z][a-z]+')\n",
    "\n",
    "# Find all matches in the sample text\n",
    "matches = pattern.findall(sample_text)\n",
    "\n",
    "# Print the matches\n",
    "print(matches)"
   ]
  },
  {
   "cell_type": "code",
   "execution_count": 25,
   "id": "0874759b",
   "metadata": {},
   "outputs": [
    {
     "name": "stdout",
     "output_type": "stream",
     "text": [
      "Hello world\n"
     ]
    }
   ],
   "source": [
    "# Question 25\n",
    "\n",
    "import re\n",
    "\n",
    "def remove_continuous_duplicates(sentence):\n",
    "    # Regular expression pattern to match continuous duplicate words\n",
    "    pattern = re.compile(r'\\b(\\w+)(?:\\s+\\1\\b)+', flags=re.IGNORECASE)\n",
    "\n",
    "    # Remove continuous duplicate words from the sentence\n",
    "    modified_sentence = pattern.sub(r'\\1', sentence)\n",
    "\n",
    "    return modified_sentence\n",
    "\n",
    "# Example usage:\n",
    "sample_text = \"Hello hello world world\"\n",
    "result = remove_continuous_duplicates(sample_text)\n",
    "print(result)"
   ]
  },
  {
   "cell_type": "code",
   "execution_count": 26,
   "id": "ba71eee4",
   "metadata": {},
   "outputs": [
    {
     "name": "stdout",
     "output_type": "stream",
     "text": [
      "Hello123: True\n",
      "world!: False\n",
      "12345: True\n",
      "Python3: True\n",
      "alphanumeric9: True\n"
     ]
    }
   ],
   "source": [
    "# Question 26\n",
    "\n",
    "import re\n",
    "\n",
    "def ends_with_alphanumeric(input_string):\n",
    "    # Regular expression pattern to match string ending with alphanumeric character\n",
    "    pattern = re.compile(r'\\w$')\n",
    "\n",
    "    # Check if the input string matches the pattern\n",
    "    if pattern.search(input_string):\n",
    "        return True\n",
    "    else:\n",
    "        return False\n",
    "\n",
    "# Example usage:\n",
    "sample_strings = [\"Hello123\", \"world!\", \"12345\", \"Python3\", \"alphanumeric9\"]\n",
    "for string in sample_strings:\n",
    "    print(f\"{string}: {ends_with_alphanumeric(string)}\")"
   ]
  },
  {
   "cell_type": "code",
   "execution_count": 27,
   "id": "4bd0dbb2",
   "metadata": {},
   "outputs": [
    {
     "name": "stdout",
     "output_type": "stream",
     "text": [
      "Extracted hashtags: ['#Doltiwal', '#xyzabc', '#Demonetization']\n"
     ]
    }
   ],
   "source": [
    "# Question 27\n",
    "\n",
    "import re\n",
    "\n",
    "def extract_hashtags(text):\n",
    "    # Regular expression pattern to match hashtags\n",
    "    pattern = re.compile(r'#\\w+')\n",
    "\n",
    "    # Find all matches in the text\n",
    "    hashtags = pattern.findall(text)\n",
    "\n",
    "    return hashtags\n",
    "\n",
    "# Sample text\n",
    "sample_text = \"\"\"RT @kapil_kausik: #Doltiwal I mean #xyzabc is \"hurt\" by #Demonetization as the same has rendered USELESS <ed><U+00A0><U+00BD><ed><U+00B1><U+0089> \"acquired funds\" No wo\"\"\"\n",
    "\n",
    "# Extract hashtags from the sample text\n",
    "hashtags = extract_hashtags(sample_text)\n",
    "\n",
    "# Print the extracted hashtags\n",
    "print(\"Extracted hashtags:\", hashtags)"
   ]
  },
  {
   "cell_type": "code",
   "execution_count": 28,
   "id": "eb49f4b9",
   "metadata": {},
   "outputs": [
    {
     "name": "stdout",
     "output_type": "stream",
     "text": [
      "Cleaned text: @Jags123456 Bharat band on 28??<ed><ed>Those who are protesting #demonetization are all different party leaders\n"
     ]
    }
   ],
   "source": [
    "# Question 28\n",
    "\n",
    "import re\n",
    "\n",
    "def remove_symbols(text):\n",
    "    # Regular expression pattern to match <U+..>-like symbols\n",
    "    pattern = re.compile(r'<U\\+[0-9A-Fa-f]+>')\n",
    "\n",
    "    # Remove symbols from the text\n",
    "    cleaned_text = pattern.sub('', text)\n",
    "\n",
    "    return cleaned_text\n",
    "\n",
    "# Sample text\n",
    "sample_text = \"@Jags123456 Bharat band on 28??<ed><U+00A0><U+00BD><ed><U+00B8><U+0082>Those who are protesting #demonetization are all different party leaders\"\n",
    "\n",
    "# Remove symbols from the sample text\n",
    "cleaned_text = remove_symbols(sample_text)\n",
    "\n",
    "# Print the cleaned text\n",
    "print(\"Cleaned text:\", cleaned_text)"
   ]
  },
  {
   "cell_type": "code",
   "execution_count": 31,
   "id": "426be2f6",
   "metadata": {},
   "outputs": [
    {
     "name": "stdout",
     "output_type": "stream",
     "text": [
      "Modified text:  following example creates  ArrayList  a capacity   elements. 4 elements   added   ArrayList   ArrayList  trimmed accordingly.\n"
     ]
    }
   ],
   "source": [
    "# Question 30\n",
    "\n",
    "import re\n",
    "\n",
    "def remove_words(text):\n",
    "    # Regular expression pattern to match words of length between 2 and 4\n",
    "    pattern = re.compile(r'\\b\\w{2,4}\\b')\n",
    "\n",
    "    # Remove words from the text\n",
    "    modified_text = pattern.sub('', text)\n",
    "\n",
    "    return modified_text\n",
    "\n",
    "# Sample text\n",
    "sample_text = \"The following example creates an ArrayList with a capacity of 50 elements. 4 elements are then added to the ArrayList and the ArrayList is trimmed accordingly.\"\n",
    "\n",
    "# Remove words of length between 2 and 4 from the sample text\n",
    "result = remove_words(sample_text)\n",
    "\n",
    "# Print the modified text\n",
    "print(\"Modified text:\", result)"
   ]
  },
  {
   "cell_type": "code",
   "execution_count": null,
   "id": "ca674d0b",
   "metadata": {},
   "outputs": [],
   "source": []
  }
 ],
 "metadata": {
  "kernelspec": {
   "display_name": "Python 3 (ipykernel)",
   "language": "python",
   "name": "python3"
  },
  "language_info": {
   "codemirror_mode": {
    "name": "ipython",
    "version": 3
   },
   "file_extension": ".py",
   "mimetype": "text/x-python",
   "name": "python",
   "nbconvert_exporter": "python",
   "pygments_lexer": "ipython3",
   "version": "3.10.9"
  }
 },
 "nbformat": 4,
 "nbformat_minor": 5
}
